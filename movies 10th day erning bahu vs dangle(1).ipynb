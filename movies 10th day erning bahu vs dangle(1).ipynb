{
 "cells": [
  {
   "cell_type": "code",
   "execution_count": null,
   "id": "8c4e0c17",
   "metadata": {},
   "outputs": [],
   "source": [
    "import numpy as np\n",
    "import pandas as pd"
   ]
  },
  {
   "cell_type": "code",
   "execution_count": null,
   "id": "494cd02f",
   "metadata": {},
   "outputs": [],
   "source": [
    "df=pd.read_csv('Box_Office.csv')\n",
    "df.head(10)"
   ]
  },
  {
   "cell_type": "code",
   "execution_count": 13,
   "id": "39cd61c3",
   "metadata": {},
   "outputs": [],
   "source": [
    "from sklearn.linear_model import LinearRegression"
   ]
  },
  {
   "cell_type": "code",
   "execution_count": 14,
   "id": "b1064c97",
   "metadata": {},
   "outputs": [
    {
     "data": {
      "text/plain": [
       "(array([[1],\n",
       "        [2],\n",
       "        [3],\n",
       "        [4],\n",
       "        [5],\n",
       "        [6],\n",
       "        [7],\n",
       "        [8],\n",
       "        [9]], dtype=int64),\n",
       " array([[41.  ],\n",
       "        [40.5 ],\n",
       "        [46.5 ],\n",
       "        [40.25],\n",
       "        [30.  ],\n",
       "        [26.  ],\n",
       "        [22.75],\n",
       "        [19.75],\n",
       "        [26.5 ]]),\n",
       " array([[29.78],\n",
       "        [34.82],\n",
       "        [42.35],\n",
       "        [25.48],\n",
       "        [23.07],\n",
       "        [21.2 ],\n",
       "        [20.29],\n",
       "        [17.  ],\n",
       "        [31.27]]))"
      ]
     },
     "execution_count": 14,
     "metadata": {},
     "output_type": "execute_result"
    }
   ],
   "source": [
    "feature = df.iloc[:, 0:1].values\n",
    "label_bahubali = df.iloc[:, 1:2].values   # Bahubali 2\n",
    "label_dangal = df.iloc[:, 2:3].values \n",
    "feature,label_bahubali,label_dangal"
   ]
  },
  {
   "cell_type": "code",
   "execution_count": 18,
   "id": "de16a1df",
   "metadata": {},
   "outputs": [
    {
     "data": {
      "text/plain": [
       "(LinearRegression(), LinearRegression())"
      ]
     },
     "execution_count": 18,
     "metadata": {},
     "output_type": "execute_result"
    }
   ],
   "source": [
    "clf1=LinearRegression()\n",
    "clf1.fit(feature, label_bahubali)\n",
    "clf2=LinearRegression()\n",
    "clf2.fit(feature, label_dangal)\n",
    "clf1,clf2"
   ]
  },
  {
   "cell_type": "code",
   "execution_count": 23,
   "id": "3492ffee",
   "metadata": {},
   "outputs": [],
   "source": [
    "bahubali_collection = clf1.predict([[10]])\n",
    "\n",
    "\n",
    "dangal_collection = clf2.predict([[10]])"
   ]
  },
  {
   "cell_type": "code",
   "execution_count": 26,
   "id": "8b378f56",
   "metadata": {},
   "outputs": [
    {
     "data": {
      "text/plain": [
       "array([[17.41666667]])"
      ]
     },
     "execution_count": 26,
     "metadata": {},
     "output_type": "execute_result"
    }
   ],
   "source": [
    "bahubali_collection #day 10 Erning"
   ]
  },
  {
   "cell_type": "code",
   "execution_count": 27,
   "id": "45474e13",
   "metadata": {},
   "outputs": [
    {
     "data": {
      "text/plain": [
       "array([[19.25944444]])"
      ]
     },
     "execution_count": 27,
     "metadata": {},
     "output_type": "execute_result"
    }
   ],
   "source": [
    "dangal_collection #day 10 Erning"
   ]
  },
  {
   "cell_type": "code",
   "execution_count": null,
   "id": "70421df9",
   "metadata": {},
   "outputs": [],
   "source": []
  }
 ],
 "metadata": {
  "kernelspec": {
   "display_name": "Python 3 (ipykernel)",
   "language": "python",
   "name": "python3"
  },
  "language_info": {
   "codemirror_mode": {
    "name": "ipython",
    "version": 3
   },
   "file_extension": ".py",
   "mimetype": "text/x-python",
   "name": "python",
   "nbconvert_exporter": "python",
   "pygments_lexer": "ipython3",
   "version": "3.9.12"
  }
 },
 "nbformat": 4,
 "nbformat_minor": 5
}
